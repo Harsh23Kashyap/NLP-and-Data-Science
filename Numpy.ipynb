{
  "nbformat": 4,
  "nbformat_minor": 0,
  "metadata": {
    "colab": {
      "name": "Assignment 2 - 101917088.ipynb",
      "provenance": []
    },
    "kernelspec": {
      "name": "python3",
      "display_name": "Python 3"
    },
    "language_info": {
      "name": "python"
    }
  },
  "cells": [
    {
      "cell_type": "markdown",
      "source": [
        "# Assignment 2\n",
        "\n",
        "Harsh Kashyap\n",
        "\n",
        "CSE4\n",
        "\n",
        "101917088 "
      ],
      "metadata": {
        "id": "OAYiXTKCJJQt"
      }
    },
    {
      "cell_type": "code",
      "execution_count": 1,
      "metadata": {
        "id": "RsLYYeIFGy_S"
      },
      "outputs": [],
      "source": [
        "import numpy as np"
      ]
    },
    {
      "cell_type": "markdown",
      "source": [
        "1. Create an array of 10 fives"
      ],
      "metadata": {
        "id": "TmhaFbOIG50V"
      }
    },
    {
      "cell_type": "code",
      "source": [
        "arr=np.ones(10)*5\n",
        "print(arr)"
      ],
      "metadata": {
        "colab": {
          "base_uri": "https://localhost:8080/"
        },
        "id": "jFRnkGpBG3B7",
        "outputId": "9d923268-30b8-4d74-c9e4-2fe8551742bb"
      },
      "execution_count": 2,
      "outputs": [
        {
          "output_type": "stream",
          "name": "stdout",
          "text": [
            "[5. 5. 5. 5. 5. 5. 5. 5. 5. 5.]\n"
          ]
        }
      ]
    },
    {
      "cell_type": "markdown",
      "source": [
        "2. Create an array of the integers from 10 to 50"
      ],
      "metadata": {
        "id": "GQ4fcEUbHvfd"
      }
    },
    {
      "cell_type": "code",
      "source": [
        "array=np.arange(10,50,1)\n",
        "print(array) "
      ],
      "metadata": {
        "colab": {
          "base_uri": "https://localhost:8080/"
        },
        "id": "TQ5Svz8cHPKW",
        "outputId": "7bcebd13-c265-478c-f13a-fd5f86b2dcc7"
      },
      "execution_count": 3,
      "outputs": [
        {
          "output_type": "stream",
          "name": "stdout",
          "text": [
            "[10 11 12 13 14 15 16 17 18 19 20 21 22 23 24 25 26 27 28 29 30 31 32 33\n",
            " 34 35 36 37 38 39 40 41 42 43 44 45 46 47 48 49]\n"
          ]
        }
      ]
    },
    {
      "cell_type": "markdown",
      "source": [
        "3. Create an array of all the even integers from 10 to 50"
      ],
      "metadata": {
        "id": "MyVigTYsH99e"
      }
    },
    {
      "cell_type": "code",
      "source": [
        "array=np.arange(10,50,2)\n",
        "print(array) "
      ],
      "metadata": {
        "colab": {
          "base_uri": "https://localhost:8080/"
        },
        "id": "vBfqZ_whH6uR",
        "outputId": "44795df6-f004-4462-924c-195f21124876"
      },
      "execution_count": 4,
      "outputs": [
        {
          "output_type": "stream",
          "name": "stdout",
          "text": [
            "[10 12 14 16 18 20 22 24 26 28 30 32 34 36 38 40 42 44 46 48]\n"
          ]
        }
      ]
    },
    {
      "cell_type": "markdown",
      "source": [
        "4. Create a 3x3 matrix with values ranging from 0 to 8"
      ],
      "metadata": {
        "id": "HQ_SVhWLIDOM"
      }
    },
    {
      "cell_type": "code",
      "source": [
        "arr =  np.arange(0,9).reshape(3,3)\n",
        "print(arr)"
      ],
      "metadata": {
        "colab": {
          "base_uri": "https://localhost:8080/"
        },
        "id": "EkTsb-R0H_6s",
        "outputId": "12b674ea-f041-4b73-9ffd-cc1d05981ecf"
      },
      "execution_count": 6,
      "outputs": [
        {
          "output_type": "stream",
          "name": "stdout",
          "text": [
            "[[0 1 2]\n",
            " [3 4 5]\n",
            " [6 7 8]]\n"
          ]
        }
      ]
    },
    {
      "cell_type": "markdown",
      "source": [
        "5. Use NumPy to generate an array of 25 random numbers sampled from a standard normal distribution"
      ],
      "metadata": {
        "id": "xLuf71utIVd5"
      }
    },
    {
      "cell_type": "code",
      "source": [
        "arr = np.random.normal(0,1,25)\n",
        "print(arr)"
      ],
      "metadata": {
        "colab": {
          "base_uri": "https://localhost:8080/"
        },
        "id": "ShNZiYNyINdf",
        "outputId": "f1277cde-e9e5-486f-8098-55ddbb35d01d"
      },
      "execution_count": 7,
      "outputs": [
        {
          "output_type": "stream",
          "name": "stdout",
          "text": [
            "[-0.06797085 -0.34291192  0.52996612 -0.04365775  0.78260114  1.77254017\n",
            " -0.20438015  0.15706401  0.26182393 -0.4446168   0.42384318 -0.86059807\n",
            " -0.67101493 -1.56963141 -1.39243793  0.50135979  0.72200203  0.90037725\n",
            " -1.00093927 -0.63232165  0.82410453  0.35078276 -0.51989555 -2.55416991\n",
            "  0.63487365]\n"
          ]
        }
      ]
    },
    {
      "cell_type": "markdown",
      "source": [
        "6. Create the following array:\n",
        "array([0. , 0.01, 0.02, 0.03, 0.04, 0.05, 0.06, 0.07, 0.08, 0.09, 0.1 ,\n",
        "0.11, 0.12, 0.13, 0.14, 0.15, 0.16, 0.17, 0.18, 0.19, 0.2 , 0.21,\n",
        "0.22, 0.23, 0.24, 0.25, 0.26, 0.27, 0.28, 0.29, 0.3 , 0.31, 0.32,\n",
        "0.33, 0.34, 0.35, 0.36, 0.37, 0.38, 0.39, 0.4 , 0.41, 0.42, 0.43,\n",
        "0.44, 0.45, 0.46, 0.47, 0.48, 0.49, 0.5 , 0.51, 0.52, 0.53, 0.54,\n",
        "0.55, 0.56, 0.57, 0.58, 0.59, 0.6 , 0.61, 0.62, 0.63, 0.64, 0.65,\n",
        "0.66, 0.67, 0.68, 0.69, 0.7 , 0.71, 0.72, 0.73, 0.74, 0.75, 0.76,\n",
        "0.77, 0.78, 0.79, 0.8 , 0.81, 0.82, 0.83, 0.84, 0.85, 0.86, 0.87,\n",
        "0.88, 0.89, 0.9 , 0.91, 0.92, 0.93, 0.94, 0.95, 0.96, 0.97, 0.98,\n",
        "0.99, 1. ])"
      ],
      "metadata": {
        "id": "07Z26sXRIlhv"
      }
    },
    {
      "cell_type": "code",
      "source": [
        "arr = np.arange(0, 1.01, 0.01)\n",
        "print(arr)"
      ],
      "metadata": {
        "colab": {
          "base_uri": "https://localhost:8080/"
        },
        "id": "fuh1tD4gIf0B",
        "outputId": "b3334b52-eae5-46d3-9661-23894580191d"
      },
      "execution_count": 9,
      "outputs": [
        {
          "output_type": "stream",
          "name": "stdout",
          "text": [
            "[0.   0.01 0.02 0.03 0.04 0.05 0.06 0.07 0.08 0.09 0.1  0.11 0.12 0.13\n",
            " 0.14 0.15 0.16 0.17 0.18 0.19 0.2  0.21 0.22 0.23 0.24 0.25 0.26 0.27\n",
            " 0.28 0.29 0.3  0.31 0.32 0.33 0.34 0.35 0.36 0.37 0.38 0.39 0.4  0.41\n",
            " 0.42 0.43 0.44 0.45 0.46 0.47 0.48 0.49 0.5  0.51 0.52 0.53 0.54 0.55\n",
            " 0.56 0.57 0.58 0.59 0.6  0.61 0.62 0.63 0.64 0.65 0.66 0.67 0.68 0.69\n",
            " 0.7  0.71 0.72 0.73 0.74 0.75 0.76 0.77 0.78 0.79 0.8  0.81 0.82 0.83\n",
            " 0.84 0.85 0.86 0.87 0.88 0.89 0.9  0.91 0.92 0.93 0.94 0.95 0.96 0.97\n",
            " 0.98 0.99 1.  ]\n"
          ]
        }
      ]
    },
    {
      "cell_type": "markdown",
      "source": [
        "7. Create an array of 20 linearly spaced points between 0 and 1"
      ],
      "metadata": {
        "id": "UfYkszBuI3bC"
      }
    },
    {
      "cell_type": "code",
      "source": [
        "arr = np.linspace(0,1,20)\n",
        "print(arr)\n"
      ],
      "metadata": {
        "colab": {
          "base_uri": "https://localhost:8080/"
        },
        "id": "_OZ3_GT9IvRY",
        "outputId": "abc105a5-def8-4820-de85-1bee3eba7e72"
      },
      "execution_count": 10,
      "outputs": [
        {
          "output_type": "stream",
          "name": "stdout",
          "text": [
            "[0.         0.05263158 0.10526316 0.15789474 0.21052632 0.26315789\n",
            " 0.31578947 0.36842105 0.42105263 0.47368421 0.52631579 0.57894737\n",
            " 0.63157895 0.68421053 0.73684211 0.78947368 0.84210526 0.89473684\n",
            " 0.94736842 1.        ]\n"
          ]
        }
      ]
    },
    {
      "cell_type": "markdown",
      "source": [
        "8. Generate the following matrix, mat,\n",
        "array([[ 1, 2, 3, 4, 5],\n",
        "[ 6, 7, 8, 9, 10],\n",
        "[11, 12, 13, 14, 15],\n",
        "[16, 17, 18, 19, 20],\n",
        "[21, 22, 23, 24, 25]])\n",
        "and extract the following using the indexing and slicing:\n",
        "array([[12, 13, 14, 15],\n",
        "[17, 18, 19, 20],\n",
        "[22, 23, 24, 25]])\n",
        "array([[ 2],\n",
        "[ 7],\n",
        "[12]])\n",
        "Get the sum of all the values in mat\n",
        "Get the sum of all the rows and columns in mat"
      ],
      "metadata": {
        "id": "ONquOZuhJILb"
      }
    },
    {
      "cell_type": "code",
      "source": [
        "arr =  np.arange(1,26).reshape(5,5)\n",
        "print(arr)"
      ],
      "metadata": {
        "colab": {
          "base_uri": "https://localhost:8080/"
        },
        "id": "ilZbGLX0JAip",
        "outputId": "1d974c04-ce46-4658-d808-edcc2d21310d"
      },
      "execution_count": 11,
      "outputs": [
        {
          "output_type": "stream",
          "name": "stdout",
          "text": [
            "[[ 1  2  3  4  5]\n",
            " [ 6  7  8  9 10]\n",
            " [11 12 13 14 15]\n",
            " [16 17 18 19 20]\n",
            " [21 22 23 24 25]]\n"
          ]
        }
      ]
    },
    {
      "cell_type": "code",
      "source": [
        "sliced= np.array([arr[2][1:],arr[3][1:],arr[4][1:]])\n",
        "print(sliced)"
      ],
      "metadata": {
        "colab": {
          "base_uri": "https://localhost:8080/"
        },
        "id": "coWnVdnMJcdV",
        "outputId": "d62dd96c-e9b9-42c0-a9d4-2dda0206cbff"
      },
      "execution_count": 15,
      "outputs": [
        {
          "output_type": "stream",
          "name": "stdout",
          "text": [
            "[[12 13 14 15]\n",
            " [17 18 19 20]\n",
            " [22 23 24 25]]\n"
          ]
        }
      ]
    },
    {
      "cell_type": "code",
      "source": [
        "sliced= np.array([[arr[0][1]],[arr[1][1]],[arr[2][1]]])\n",
        "print(sliced)"
      ],
      "metadata": {
        "colab": {
          "base_uri": "https://localhost:8080/"
        },
        "id": "dsawoTowJ1Vz",
        "outputId": "9ab8001a-c4b0-4338-98ad-fa5aa691d2a2"
      },
      "execution_count": 17,
      "outputs": [
        {
          "output_type": "stream",
          "name": "stdout",
          "text": [
            "[[ 2]\n",
            " [ 7]\n",
            " [12]]\n"
          ]
        }
      ]
    },
    {
      "cell_type": "code",
      "source": [
        "print(\"Row sum\")\n",
        "print(np.sum(arr,axis=1))"
      ],
      "metadata": {
        "colab": {
          "base_uri": "https://localhost:8080/"
        },
        "id": "Wn6c0ws4KToU",
        "outputId": "62e79b3e-e2df-483d-fd72-47b2deb889ae"
      },
      "execution_count": 20,
      "outputs": [
        {
          "output_type": "stream",
          "name": "stdout",
          "text": [
            "[ 15  40  65  90 115]\n"
          ]
        }
      ]
    },
    {
      "cell_type": "code",
      "source": [
        "print(\"Column sum\")\n",
        "print(np.sum(arr,axis=1))"
      ],
      "metadata": {
        "colab": {
          "base_uri": "https://localhost:8080/"
        },
        "id": "fcwUJQNJKVQJ",
        "outputId": "9ef356f3-ee39-4e99-c144-33209c632429"
      },
      "execution_count": 21,
      "outputs": [
        {
          "output_type": "stream",
          "name": "stdout",
          "text": [
            "Column sum\n",
            "[ 15  40  65  90 115]\n"
          ]
        }
      ]
    }
  ]
}