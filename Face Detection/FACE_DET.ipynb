{
 "cells": [
  {
   "cell_type": "code",
   "execution_count": 1,
   "id": "d62b6ed4-ee1b-418d-99b2-4b4fed88578a",
   "metadata": {},
   "outputs": [
    {
     "name": "stdout",
     "output_type": "stream",
     "text": [
      "Requirement already satisfied: mtcnn in /Users/licious/opt/anaconda3/lib/python3.9/site-packages (0.1.1)\n",
      "Requirement already satisfied: keras>=2.0.0 in /Users/licious/opt/anaconda3/lib/python3.9/site-packages (from mtcnn) (2.8.0)\n",
      "Requirement already satisfied: opencv-python>=4.1.0 in /Users/licious/opt/anaconda3/lib/python3.9/site-packages (from mtcnn) (4.5.5.64)\n",
      "Requirement already satisfied: numpy>=1.17.3 in /Users/licious/opt/anaconda3/lib/python3.9/site-packages (from opencv-python>=4.1.0->mtcnn) (1.20.3)\n",
      "Note: you may need to restart the kernel to use updated packages.\n"
     ]
    }
   ],
   "source": [
    "pip install mtcnn"
   ]
  },
  {
   "cell_type": "code",
   "execution_count": 2,
   "id": "c7646a71-0d8c-438a-9414-86f533c55701",
   "metadata": {},
   "outputs": [
    {
     "name": "stdout",
     "output_type": "stream",
     "text": [
      "Requirement already satisfied: tensorflow in /Users/licious/opt/anaconda3/lib/python3.9/site-packages (2.8.0)\n",
      "Requirement already satisfied: protobuf>=3.9.2 in /Users/licious/opt/anaconda3/lib/python3.9/site-packages (from tensorflow) (3.20.1)\n",
      "Requirement already satisfied: wrapt>=1.11.0 in /Users/licious/opt/anaconda3/lib/python3.9/site-packages (from tensorflow) (1.12.1)\n",
      "Requirement already satisfied: keras<2.9,>=2.8.0rc0 in /Users/licious/opt/anaconda3/lib/python3.9/site-packages (from tensorflow) (2.8.0)\n",
      "Requirement already satisfied: setuptools in /Users/licious/opt/anaconda3/lib/python3.9/site-packages (from tensorflow) (58.0.4)\n",
      "Requirement already satisfied: grpcio<2.0,>=1.24.3 in /Users/licious/opt/anaconda3/lib/python3.9/site-packages (from tensorflow) (1.44.0)\n",
      "Requirement already satisfied: libclang>=9.0.1 in /Users/licious/opt/anaconda3/lib/python3.9/site-packages (from tensorflow) (14.0.1)\n",
      "Requirement already satisfied: keras-preprocessing>=1.1.1 in /Users/licious/opt/anaconda3/lib/python3.9/site-packages (from tensorflow) (1.1.2)\n",
      "Requirement already satisfied: tf-estimator-nightly==2.8.0.dev2021122109 in /Users/licious/opt/anaconda3/lib/python3.9/site-packages (from tensorflow) (2.8.0.dev2021122109)\n",
      "Requirement already satisfied: gast>=0.2.1 in /Users/licious/opt/anaconda3/lib/python3.9/site-packages (from tensorflow) (0.5.3)\n",
      "Requirement already satisfied: h5py>=2.9.0 in /Users/licious/opt/anaconda3/lib/python3.9/site-packages (from tensorflow) (3.2.1)\n",
      "Requirement already satisfied: typing-extensions>=3.6.6 in /Users/licious/opt/anaconda3/lib/python3.9/site-packages (from tensorflow) (3.10.0.2)\n",
      "Requirement already satisfied: astunparse>=1.6.0 in /Users/licious/opt/anaconda3/lib/python3.9/site-packages (from tensorflow) (1.6.3)\n",
      "Requirement already satisfied: opt-einsum>=2.3.2 in /Users/licious/opt/anaconda3/lib/python3.9/site-packages (from tensorflow) (3.3.0)\n",
      "Requirement already satisfied: tensorflow-io-gcs-filesystem>=0.23.1 in /Users/licious/opt/anaconda3/lib/python3.9/site-packages (from tensorflow) (0.25.0)\n",
      "Requirement already satisfied: google-pasta>=0.1.1 in /Users/licious/opt/anaconda3/lib/python3.9/site-packages (from tensorflow) (0.2.0)\n",
      "Requirement already satisfied: absl-py>=0.4.0 in /Users/licious/opt/anaconda3/lib/python3.9/site-packages (from tensorflow) (1.0.0)\n",
      "Requirement already satisfied: numpy>=1.20 in /Users/licious/opt/anaconda3/lib/python3.9/site-packages (from tensorflow) (1.20.3)\n",
      "Requirement already satisfied: termcolor>=1.1.0 in /Users/licious/opt/anaconda3/lib/python3.9/site-packages (from tensorflow) (1.1.0)\n",
      "Requirement already satisfied: flatbuffers>=1.12 in /Users/licious/opt/anaconda3/lib/python3.9/site-packages (from tensorflow) (2.0)\n",
      "Requirement already satisfied: six>=1.12.0 in /Users/licious/opt/anaconda3/lib/python3.9/site-packages (from tensorflow) (1.16.0)\n",
      "Requirement already satisfied: tensorboard<2.9,>=2.8 in /Users/licious/opt/anaconda3/lib/python3.9/site-packages (from tensorflow) (2.8.0)\n",
      "Requirement already satisfied: wheel<1.0,>=0.23.0 in /Users/licious/opt/anaconda3/lib/python3.9/site-packages (from astunparse>=1.6.0->tensorflow) (0.37.0)\n",
      "Requirement already satisfied: google-auth-oauthlib<0.5,>=0.4.1 in /Users/licious/opt/anaconda3/lib/python3.9/site-packages (from tensorboard<2.9,>=2.8->tensorflow) (0.4.6)\n",
      "Requirement already satisfied: requests<3,>=2.21.0 in /Users/licious/opt/anaconda3/lib/python3.9/site-packages (from tensorboard<2.9,>=2.8->tensorflow) (2.26.0)\n",
      "Requirement already satisfied: google-auth<3,>=1.6.3 in /Users/licious/opt/anaconda3/lib/python3.9/site-packages (from tensorboard<2.9,>=2.8->tensorflow) (2.6.6)\n",
      "Requirement already satisfied: werkzeug>=0.11.15 in /Users/licious/opt/anaconda3/lib/python3.9/site-packages (from tensorboard<2.9,>=2.8->tensorflow) (2.0.2)\n",
      "Requirement already satisfied: markdown>=2.6.8 in /Users/licious/opt/anaconda3/lib/python3.9/site-packages (from tensorboard<2.9,>=2.8->tensorflow) (3.3.6)\n",
      "Requirement already satisfied: tensorboard-data-server<0.7.0,>=0.6.0 in /Users/licious/opt/anaconda3/lib/python3.9/site-packages (from tensorboard<2.9,>=2.8->tensorflow) (0.6.1)\n",
      "Requirement already satisfied: tensorboard-plugin-wit>=1.6.0 in /Users/licious/opt/anaconda3/lib/python3.9/site-packages (from tensorboard<2.9,>=2.8->tensorflow) (1.8.1)\n",
      "Requirement already satisfied: rsa<5,>=3.1.4 in /Users/licious/opt/anaconda3/lib/python3.9/site-packages (from google-auth<3,>=1.6.3->tensorboard<2.9,>=2.8->tensorflow) (4.8)\n",
      "Requirement already satisfied: cachetools<6.0,>=2.0.0 in /Users/licious/opt/anaconda3/lib/python3.9/site-packages (from google-auth<3,>=1.6.3->tensorboard<2.9,>=2.8->tensorflow) (5.0.0)\n",
      "Requirement already satisfied: pyasn1-modules>=0.2.1 in /Users/licious/opt/anaconda3/lib/python3.9/site-packages (from google-auth<3,>=1.6.3->tensorboard<2.9,>=2.8->tensorflow) (0.2.8)\n",
      "Requirement already satisfied: requests-oauthlib>=0.7.0 in /Users/licious/opt/anaconda3/lib/python3.9/site-packages (from google-auth-oauthlib<0.5,>=0.4.1->tensorboard<2.9,>=2.8->tensorflow) (1.3.1)\n",
      "Requirement already satisfied: importlib-metadata>=4.4 in /Users/licious/opt/anaconda3/lib/python3.9/site-packages (from markdown>=2.6.8->tensorboard<2.9,>=2.8->tensorflow) (4.8.1)\n",
      "Requirement already satisfied: zipp>=0.5 in /Users/licious/opt/anaconda3/lib/python3.9/site-packages (from importlib-metadata>=4.4->markdown>=2.6.8->tensorboard<2.9,>=2.8->tensorflow) (3.6.0)\n",
      "Requirement already satisfied: pyasn1<0.5.0,>=0.4.6 in /Users/licious/opt/anaconda3/lib/python3.9/site-packages (from pyasn1-modules>=0.2.1->google-auth<3,>=1.6.3->tensorboard<2.9,>=2.8->tensorflow) (0.4.8)\n",
      "Requirement already satisfied: charset-normalizer~=2.0.0 in /Users/licious/opt/anaconda3/lib/python3.9/site-packages (from requests<3,>=2.21.0->tensorboard<2.9,>=2.8->tensorflow) (2.0.4)\n",
      "Requirement already satisfied: certifi>=2017.4.17 in /Users/licious/opt/anaconda3/lib/python3.9/site-packages (from requests<3,>=2.21.0->tensorboard<2.9,>=2.8->tensorflow) (2021.10.8)\n",
      "Requirement already satisfied: idna<4,>=2.5 in /Users/licious/opt/anaconda3/lib/python3.9/site-packages (from requests<3,>=2.21.0->tensorboard<2.9,>=2.8->tensorflow) (3.2)\n",
      "Requirement already satisfied: urllib3<1.27,>=1.21.1 in /Users/licious/opt/anaconda3/lib/python3.9/site-packages (from requests<3,>=2.21.0->tensorboard<2.9,>=2.8->tensorflow) (1.26.7)\n",
      "Requirement already satisfied: oauthlib>=3.0.0 in /Users/licious/opt/anaconda3/lib/python3.9/site-packages (from requests-oauthlib>=0.7.0->google-auth-oauthlib<0.5,>=0.4.1->tensorboard<2.9,>=2.8->tensorflow) (3.2.0)\n",
      "Note: you may need to restart the kernel to use updated packages.\n"
     ]
    }
   ],
   "source": [
    "\n",
    "pip install tensorflow"
   ]
  },
  {
   "cell_type": "code",
   "execution_count": null,
   "id": "4bc984b2-879b-409b-942f-aad9d321a36d",
   "metadata": {},
   "outputs": [],
   "source": [
    "# fisrt task we have to detect the face in the box\n",
    "from mtcnn import MTCNN \n",
    "# from mtcnn we have to import the class mtcnn\n",
    "# we have to create the object of mtcnn\n",
    "detector= MTCNN()\n",
    "import cv2\n",
    "img= cv2.imread(\"vk.jpg\")\n",
    "#In detector, we pass the function of detect faces and detector can detct all the faces of each image\n",
    "output = detector.detect_faces(img)\n",
    "print(output)\n",
    "print(\"first\",output[0])\n",
    "x,y,width,height=output[0]['box']\n",
    "# for making the rectangle we need two cordinates diagonally\n",
    "cv2.rectangle(img,pt1=(x,y),pt2=(x+width,y+height),color=(255,0,0),thickness=3)\n",
    "# in output, we get the list , inside the list we have the dictionary , here key is the box, box ouput is the list \n",
    "# and here we have four numbers(185,49) , first two numbers are the coordinate of box and 82 width and 100 is the height\n",
    "cv2.imshow(\"image\",img)\n",
    "cv2.waitKey(0)"
   ]
  },
  {
   "cell_type": "code",
   "execution_count": 2,
   "id": "c09be659-b57c-4535-9f15-256da3345069",
   "metadata": {},
   "outputs": [
    {
     "name": "stdout",
     "output_type": "stream",
     "text": [
      "WARNING:tensorflow:5 out of the last 13 calls to <function Model.make_predict_function.<locals>.predict_function at 0x000001CD28CE53A0> triggered tf.function retracing. Tracing is expensive and the excessive number of tracings could be due to (1) creating @tf.function repeatedly in a loop, (2) passing tensors with different shapes, (3) passing Python objects instead of tensors. For (1), please define your @tf.function outside of the loop. For (2), @tf.function has experimental_relax_shapes=True option that relaxes argument shapes that can avoid unnecessary retracing. For (3), please refer to https://www.tensorflow.org/guide/function#controlling_retracing and https://www.tensorflow.org/api_docs/python/tf/function for  more details.\n",
      "WARNING:tensorflow:6 out of the last 14 calls to <function Model.make_predict_function.<locals>.predict_function at 0x000001CD28CE53A0> triggered tf.function retracing. Tracing is expensive and the excessive number of tracings could be due to (1) creating @tf.function repeatedly in a loop, (2) passing tensors with different shapes, (3) passing Python objects instead of tensors. For (1), please define your @tf.function outside of the loop. For (2), @tf.function has experimental_relax_shapes=True option that relaxes argument shapes that can avoid unnecessary retracing. For (3), please refer to https://www.tensorflow.org/guide/function#controlling_retracing and https://www.tensorflow.org/api_docs/python/tf/function for  more details.\n",
      "[{'box': [185, 49, 82, 100], 'confidence': 0.9998676776885986, 'keypoints': {'left_eye': (211, 82), 'right_eye': (250, 85), 'nose': (232, 101), 'mouth_left': (212, 124), 'mouth_right': (245, 126)}}]\n",
      "first {'box': [185, 49, 82, 100], 'confidence': 0.9998676776885986, 'keypoints': {'left_eye': (211, 82), 'right_eye': (250, 85), 'nose': (232, 101), 'mouth_left': (212, 124), 'mouth_right': (245, 126)}}\n"
     ]
    },
    {
     "data": {
      "text/plain": [
       "-1"
      ]
     },
     "execution_count": 2,
     "metadata": {},
     "output_type": "execute_result"
    }
   ],
   "source": [
    "# second task\n",
    "# detect facial landmarks\n",
    "# mtcnn detect faces and also detct five landmarks - left eye, right eye, nose, detcting the corner of mouth\n",
    "# in output we have key value box and confidence and that value is high it means we are confident that face lies\n",
    "# keypoint is a dictionary where shows the cordinates of left eye, right eye, mouth\n",
    "from mtcnn import MTCNN \n",
    "# from mtcnn we have to import the class mtcnn\n",
    "# we have to create the object of mtcnn\n",
    "detector= MTCNN()\n",
    "import cv2\n",
    "img= cv2.imread(\"images/vk.jpg\")\n",
    "#In detector, we pass the function of detect faces and detector can detct all the faces of each image\n",
    "output = detector.detect_faces(img)\n",
    "print(output)\n",
    "print(\"first\",output[0])\n",
    "x,y,width,height=output[0]['box']\n",
    "# show the x and y cordinates of left eye\n",
    "left_eyeX,left_eyeY = output[0]['keypoints']['left_eye']\n",
    "\n",
    "cv2.circle(img,center=(left_eyeX,left_eyeY),color=(255,0,0),thickness=1,radius=5) \n",
    "# for making the rectangle we need two cordinates diagonally\n",
    "cv2.rectangle(img,pt1=(x,y),pt2=(x+width,y+height),color=(255,0,0),thickness=3)\n",
    "# in output, we get the list , inside the list we have the dictionary , here key is the box, box ouput is the list \n",
    "# and here we have four numbers(185,49) , first two numbers are the coordinate of box and 82 width and 100 is the height\n",
    "cv2.imshow(\"image\",img)\n",
    "cv2.waitKey(0)"
   ]
  },
  {
   "cell_type": "code",
   "execution_count": 3,
   "id": "217ed3a9-028a-48ff-a7ba-c9dcb52aedca",
   "metadata": {},
   "outputs": [
    {
     "name": "stdout",
     "output_type": "stream",
     "text": [
      "[{'box': [185, 49, 82, 100], 'confidence': 0.9998676776885986, 'keypoints': {'left_eye': (211, 82), 'right_eye': (250, 85), 'nose': (232, 101), 'mouth_left': (212, 124), 'mouth_right': (245, 126)}}]\n",
      "first {'box': [185, 49, 82, 100], 'confidence': 0.9998676776885986, 'keypoints': {'left_eye': (211, 82), 'right_eye': (250, 85), 'nose': (232, 101), 'mouth_left': (212, 124), 'mouth_right': (245, 126)}}\n"
     ]
    },
    {
     "data": {
      "text/plain": [
       "-1"
      ]
     },
     "execution_count": 3,
     "metadata": {},
     "output_type": "execute_result"
    }
   ],
   "source": [
    "# second task\n",
    "# detect facial landmarks in lenskart that we will detect the face and eyes\n",
    "# mtcnn detect faces and also detct five landmarks - left eye, right eye, nose, detcting the corner of mouth\n",
    "# in output we have key value box and confidence and that value is high it means we are confident that face lies\n",
    "# keypoint is a dictionary where shows the cordinates of left eye, right eye, mouth\n",
    "from mtcnn import MTCNN \n",
    "# from mtcnn we have to import the class mtcnn\n",
    "# we have to create the object of mtcnn\n",
    "detector= MTCNN()\n",
    "import cv2\n",
    "img= cv2.imread(\"images/vk.jpg\")\n",
    "#In detector, we pass the function of detect faces and detector can detct all the faces of each image\n",
    "output = detector.detect_faces(img)\n",
    "print(output)\n",
    "print(\"first\",output[0])\n",
    "x,y,width,height=output[0]['box']\n",
    "# show the x and y cordinates of left eye\n",
    "left_eyeX,left_eyeY = output[0]['keypoints']['left_eye']\n",
    "right_eyeX,right_eyeY = output[0]['keypoints']['right_eye']\n",
    "noseX,noseY = output[0]['keypoints']['nose']\n",
    "mouth_leftX,mouth_leftY = output[0]['keypoints']['mouth_left']\n",
    "mouth_rightX,mouth_rightY = output[0]['keypoints']['mouth_right']\n",
    "cv2.circle(img,center=(left_eyeX,left_eyeY),color=(255,0,0),thickness=1,radius=5) \n",
    "cv2.circle(img,center=(right_eyeX,right_eyeY),color=(255,0,0),thickness=3,radius=2)\n",
    "cv2.circle(img,center=(noseX,noseY),color=(255,0,0),thickness=3,radius=2)\n",
    "cv2.circle(img,center=(mouth_leftX,mouth_leftY),color=(255,0,0),thickness=3,radius=2)\n",
    "cv2.circle(img,center=(mouth_rightX,mouth_rightY),color=(255,0,0),thickness=3,radius=2)\n",
    "# for making the rectangle we need two cordinates diagonally\n",
    "cv2.rectangle(img,pt1=(x,y),pt2=(x+width,y+height),color=(255,0,0),thickness=3)\n",
    "# in output, we get the list , inside the list we have the dictionary , here key is the box, box ouput is the list \n",
    "# and here we have four numbers(185,49) , first two numbers are the coordinate of box and 82 width and 100 is the height\n",
    "cv2.imshow(\"image\",img)\n",
    "cv2.waitKey(0)"
   ]
  },
  {
   "cell_type": "code",
   "execution_count": 4,
   "id": "b83417a8-2832-4952-88a5-8f5f8dbaa3c9",
   "metadata": {},
   "outputs": [
    {
     "name": "stdout",
     "output_type": "stream",
     "text": [
      "[{'box': [261, 313, 115, 145], 'confidence': 0.9999812841415405, 'keypoints': {'left_eye': (290, 369), 'right_eye': (342, 364), 'nose': (317, 398), 'mouth_left': (296, 423), 'mouth_right': (345, 420)}}, {'box': [70, 294, 66, 85], 'confidence': 0.9999308586120605, 'keypoints': {'left_eye': (89, 326), 'right_eye': (122, 326), 'nose': (105, 346), 'mouth_left': (91, 359), 'mouth_right': (119, 360)}}, {'box': [547, 34, 65, 87], 'confidence': 0.9998875856399536, 'keypoints': {'left_eye': (566, 65), 'right_eye': (597, 71), 'nose': (577, 85), 'mouth_left': (563, 102), 'mouth_right': (585, 106)}}, {'box': [526, 286, 83, 107], 'confidence': 0.9993491768836975, 'keypoints': {'left_eye': (546, 324), 'right_eye': (585, 332), 'nose': (554, 350), 'mouth_left': (539, 366), 'mouth_right': (571, 373)}}, {'box': [331, 15, 43, 53], 'confidence': 0.9955496788024902, 'keypoints': {'left_eye': (344, 33), 'right_eye': (362, 42), 'nose': (347, 45), 'mouth_left': (335, 52), 'mouth_right': (349, 60)}}, {'box': [78, 29, 49, 67], 'confidence': 0.9776598811149597, 'keypoints': {'left_eye': (93, 56), 'right_eye': (116, 55), 'nose': (106, 72), 'mouth_left': (96, 81), 'mouth_right': (115, 80)}}]\n",
      "first {'box': [261, 313, 115, 145], 'confidence': 0.9999812841415405, 'keypoints': {'left_eye': (290, 369), 'right_eye': (342, 364), 'nose': (317, 398), 'mouth_left': (296, 423), 'mouth_right': (345, 420)}}\n"
     ]
    },
    {
     "data": {
      "text/plain": [
       "-1"
      ]
     },
     "execution_count": 4,
     "metadata": {},
     "output_type": "execute_result"
    }
   ],
   "source": [
    "# third task \n",
    "# output is the list, in which we have six dictionary \n",
    "# detect facial landmarks in lenskart that we will detect the face and eyes\n",
    "# mtcnn detect faces and also detct five landmarks - left eye, right eye, nose, detcting the corner of mouth\n",
    "# in output we have key value box and confidence and that value is high it means we are confident that face lies\n",
    "# keypoint is a dictionary where shows the cordinates of left eye, right eye, mouth\n",
    "from mtcnn import MTCNN \n",
    "# from mtcnn we have to import the class mtcnn\n",
    "# we have to create the object of mtcnn\n",
    "detector= MTCNN()\n",
    "import cv2\n",
    "img= cv2.imread(\"images/bollywood.jfif\")\n",
    "#In detector, we pass the function of detect faces and detector can detct all the faces of each image\n",
    "output = detector.detect_faces(img)\n",
    "print(output)\n",
    "print(\"first\",output[0])\n",
    "for i in output:\n",
    "\n",
    "    x,y,width,height=i['box']\n",
    "    # show the x and y cordinates of left eye\n",
    "    left_eyeX,left_eyeY = i['keypoints']['left_eye']\n",
    "    right_eyeX,right_eyeY = i['keypoints']['right_eye']\n",
    "    noseX,noseY = output[0]['keypoints']['nose']\n",
    "    mouth_leftX,mouth_leftY = i['keypoints']['mouth_left']\n",
    "    mouth_rightX,mouth_rightY = i['keypoints']['mouth_right']\n",
    "    cv2.circle(img,center=(left_eyeX,left_eyeY),color=(255,0,0),thickness=1,radius=5) \n",
    "    cv2.circle(img,center=(right_eyeX,right_eyeY),color=(255,0,0),thickness=3,radius=2)\n",
    "    cv2.circle(img,center=(noseX,noseY),color=(255,0,0),thickness=3,radius=2)\n",
    "    cv2.circle(img,center=(mouth_leftX,mouth_leftY),color=(255,0,0),thickness=3,radius=2)\n",
    "    cv2.circle(img,center=(mouth_rightX,mouth_rightY),color=(255,0,0),thickness=3,radius=2)\n",
    "    # for making the rectangle we need two cordinates diagonally\n",
    "    cv2.rectangle(img,pt1=(x,y),pt2=(x+width,y+height),color=(255,0,0),thickness=3)\n",
    "# in output, we get the list , inside the list we have the dictionary , here key is the box, box ouput is the list \n",
    "# and here we have four numbers(185,49) , first two numbers are the coordinate of box and 82 width and 100 is the height\n",
    "cv2.imshow(\"image\",img)\n",
    "cv2.waitKey(0)"
   ]
  },
  {
   "cell_type": "code",
   "execution_count": null,
   "id": "fccd7558-f7c3-4e09-a147-de3f223c7f8a",
   "metadata": {},
   "outputs": [],
   "source": [
    "import cv2\n",
    "from mtcnn import MTCNN\n",
    "cap= cv2.VideoCapture(0)\n",
    "detector=MTCNN()\n",
    "while True:\n",
    "    ret, frame=cap.read()\n",
    "    output=detctor.detect_faces(frame)\n",
    "    for single_output in output:\n",
    "        x,y,width,height=single_output['box']\n",
    "        cv2.rectangle(frame,pt1=(x,y),pt2=(x+width,y+height),color=(255,0,0),thickness=3)\n",
    "    cv2.imshow(\"win\", frame)\n",
    "    if cv2.waitKey(1) & 0xFF == ord('x'):\n",
    "        break"
   ]
  }
 ],
 "metadata": {
  "kernelspec": {
   "display_name": "Python 3 (ipykernel)",
   "language": "python",
   "name": "python3"
  },
  "language_info": {
   "codemirror_mode": {
    "name": "ipython",
    "version": 3
   },
   "file_extension": ".py",
   "mimetype": "text/x-python",
   "name": "python",
   "nbconvert_exporter": "python",
   "pygments_lexer": "ipython3",
   "version": "3.9.7"
  }
 },
 "nbformat": 4,
 "nbformat_minor": 5
}
