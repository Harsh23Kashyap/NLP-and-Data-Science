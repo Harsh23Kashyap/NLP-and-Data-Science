{
  "nbformat": 4,
  "nbformat_minor": 0,
  "metadata": {
    "colab": {
      "name": "Assignment 1-101917088.ipynb",
      "provenance": [],
      "collapsed_sections": []
    },
    "kernelspec": {
      "name": "python3",
      "display_name": "Python 3"
    },
    "language_info": {
      "name": "python"
    }
  },
  "cells": [
    {
      "cell_type": "markdown",
      "source": [
        "# Assignment 1\n",
        "\n",
        "Harsh Kashyap\n",
        "\n",
        "CSE4\n",
        "\n",
        "101917088 "
      ],
      "metadata": {
        "id": "aJjuR_nYN7tv"
      }
    },
    {
      "cell_type": "markdown",
      "source": [
        "Q1. Split this string\n",
        "s = \"Hi there Class!\""
      ],
      "metadata": {
        "id": "AJPW18ZFDu4R"
      }
    },
    {
      "cell_type": "code",
      "execution_count": 1,
      "metadata": {
        "colab": {
          "base_uri": "https://localhost:8080/"
        },
        "id": "9-o1Dyr4DiJB",
        "outputId": "43608613-009e-4552-df36-2c3f70a0672c"
      },
      "outputs": [
        {
          "output_type": "stream",
          "name": "stdout",
          "text": [
            "['Hi', 'there', 'Class!']\n"
          ]
        }
      ],
      "source": [
        "s=\"Hi there Class!\"\n",
        "a=s.split()\n",
        "print(a)"
      ]
    },
    {
      "cell_type": "markdown",
      "source": [
        "Q2. Given the variables\n",
        "planet = \"Earth\"\n",
        "diameter = 12742\n",
        "Use .format() to print the following string:\n",
        "The diameter of Earth is 12742 kilometers."
      ],
      "metadata": {
        "id": "Z5kYARfnD63J"
      }
    },
    {
      "cell_type": "code",
      "source": [
        "planet=\"Earth\"\n",
        "diameter=12742\n",
        "txt=\"The diameter of {0} is {1} kilometers.\"\n",
        "print(txt.format(planet,diameter))"
      ],
      "metadata": {
        "colab": {
          "base_uri": "https://localhost:8080/"
        },
        "id": "gNOE5daZD1mH",
        "outputId": "bddea62a-3ba8-4772-cedf-9ca585d938f6"
      },
      "execution_count": 3,
      "outputs": [
        {
          "output_type": "stream",
          "name": "stdout",
          "text": [
            "The diameter of Earth is 12742 kilometers.\n"
          ]
        }
      ]
    },
    {
      "cell_type": "markdown",
      "source": [
        "Q3. Given this nested list, use indexing to grab the word \"hello\"\n",
        "lst = [1,2,[3,4],[5,[100,200,['hello']],23,11],1,7]"
      ],
      "metadata": {
        "id": "-RnsqBB2Es6f"
      }
    },
    {
      "cell_type": "code",
      "source": [
        "lst = [1,2,[3,4],[5,[100,200,['hello']],23,11],1,7]\n",
        "print(lst[3][1][2][0])"
      ],
      "metadata": {
        "colab": {
          "base_uri": "https://localhost:8080/"
        },
        "id": "DrXNZRyhEY2R",
        "outputId": "fbd1ce99-8c59-4f7b-bf8a-0ca53a6542ae"
      },
      "execution_count": 7,
      "outputs": [
        {
          "output_type": "stream",
          "name": "stdout",
          "text": [
            "hello\n"
          ]
        }
      ]
    },
    {
      "cell_type": "markdown",
      "source": [
        "Q4. Given this nested dictionary grab the word \"hello\".\n",
        "d = {'k1':[1,2,3,{'tricky':['oh','man','inception',{'target':[1,2,3,'hello']}]}]}"
      ],
      "metadata": {
        "id": "F8CNSKTeFCi4"
      }
    },
    {
      "cell_type": "code",
      "source": [
        "d = {'k1':[1,2,3,{'tricky':['oh','man','inception',{'target':[1,2,3,'hello']}]}]}\n",
        "print(d['k1'][3]['tricky'][3]['target'][3])"
      ],
      "metadata": {
        "colab": {
          "base_uri": "https://localhost:8080/"
        },
        "id": "ZSOXe9H3Ew9w",
        "outputId": "b72108b4-f627-4b0d-c941-5f88c9e15f09"
      },
      "execution_count": 12,
      "outputs": [
        {
          "output_type": "stream",
          "name": "stdout",
          "text": [
            "hello\n"
          ]
        }
      ]
    },
    {
      "cell_type": "markdown",
      "source": [
        "Q5. Create a function that grabs the email website domain from a string in the form:\n",
        "user@domain.com"
      ],
      "metadata": {
        "id": "dYTCORteFyA3"
      }
    },
    {
      "cell_type": "code",
      "source": [
        "inp=input(\"Enter email - \")\n",
        "find=inp.find('@')\n",
        "print(inp[find+1:])"
      ],
      "metadata": {
        "colab": {
          "base_uri": "https://localhost:8080/"
        },
        "id": "bk41JjPgFINh",
        "outputId": "4a414e33-f475-4beb-ebad-e642a34c0d88"
      },
      "execution_count": 14,
      "outputs": [
        {
          "output_type": "stream",
          "name": "stdout",
          "text": [
            "Enter email - user@domain.com\n",
            "domain.com\n"
          ]
        }
      ]
    },
    {
      "cell_type": "markdown",
      "source": [
        "Q7. Create a basic function that returns True if the word 'dog' is contained in the input string."
      ],
      "metadata": {
        "id": "mn2OLg0cGTIn"
      }
    },
    {
      "cell_type": "code",
      "source": [
        "def dog(s)  :\n",
        "  print(s.count('dog'))\n",
        "\n",
        "dog(\"dog are dog\")"
      ],
      "metadata": {
        "colab": {
          "base_uri": "https://localhost:8080/"
        },
        "id": "x2kqsNOHLDHI",
        "outputId": "cf79a65e-e910-4cf5-863f-54eb66bc2ec8"
      },
      "execution_count": 17,
      "outputs": [
        {
          "output_type": "stream",
          "name": "stdout",
          "text": [
            "2\n"
          ]
        }
      ]
    },
    {
      "cell_type": "markdown",
      "source": [
        "Q8. Use lambda expressions and the filter() function to filter out words from a list that don't start with the\n",
        "letter 's'.\n",
        "For example: seq = ['soup','dog','salad','cat','great']"
      ],
      "metadata": {
        "id": "sqkVEvOSLSi4"
      }
    },
    {
      "cell_type": "code",
      "source": [
        "seq = ['soup','dog','salad','cat','great']\n",
        "f = filter(lambda s:s[0]=='s',seq)\n",
        "print(list(f))"
      ],
      "metadata": {
        "colab": {
          "base_uri": "https://localhost:8080/"
        },
        "id": "rbd7GtZ3LW2W",
        "outputId": "9cd0999f-e35f-47a3-a8d1-6868dbf1ed2d"
      },
      "execution_count": 18,
      "outputs": [
        {
          "output_type": "stream",
          "name": "stdout",
          "text": [
            "['soup', 'salad']\n"
          ]
        }
      ]
    },
    {
      "cell_type": "markdown",
      "source": [
        "Q9. You are driving a little too fast, and a police officer stops you. Write a function to return one of 3 pos\n",
        "sible results: \"No Challan\", \"Small Challan\", or \"Heavy Challan\". If your speed is 60 or less, the result is\n",
        "\"No Challan\". If speed is between 61 and 80 inclusive, the result is \"Small Challan\". If speed is 81 or mor\n",
        "e, the result is \"Heavy Challan\". Unless it is your birthday (encoded as a Boolean value in the parameters\n",
        "of the function) -- on your birthday, your speed can be 5 higher in all cases.\n",
        "caught_speeding(81,True)\n",
        "caught_speeding(81,False)"
      ],
      "metadata": {
        "id": "G292dWSqLZFU"
      }
    },
    {
      "cell_type": "code",
      "source": [
        "def challan(s,b):\n",
        "    if(b==False):\n",
        "        if s<=60:\n",
        "            return \"No Challan\"\n",
        "        elif s>60 & s<=80:\n",
        "            return \"Small Challan\"\n",
        "        else:\n",
        "            return \"Heavy Challan\"\n",
        "    if(b==True):\n",
        "        if s<=60+5:\n",
        "            return \"No Challan\"\n",
        "        elif s>60+5 & s<=80+5:\n",
        "            return \"Small Challan\"\n",
        "        else:\n",
        "            return \"Heavy Challan\"\n",
        "\n",
        "speed = 64\n",
        "birthday = True\n",
        "print(challan(speed,birthday))"
      ],
      "metadata": {
        "colab": {
          "base_uri": "https://localhost:8080/"
        },
        "id": "_8LKJxQlLbXb",
        "outputId": "98bb3af1-239d-4704-cbc2-4644b4ea7344"
      },
      "execution_count": 19,
      "outputs": [
        {
          "output_type": "stream",
          "name": "stdout",
          "text": [
            "No Challan\n"
          ]
        }
      ]
    },
    {
      "cell_type": "markdown",
      "source": [
        "Q10. Concatenate two lists index-wise\n",
        "list1 = [\"M\", \"na\", \"i\", \"She\"]\n",
        "list2 = [\"y\", \"me\", \"s\", \"lly\"]\n",
        "Expected Outcome: ['My', 'name', 'is', 'Shelly']\n"
      ],
      "metadata": {
        "id": "jhHMVXoHLc_E"
      }
    },
    {
      "cell_type": "code",
      "source": [
        "list1 = [\"M\", \"na\", \"i\", \"She\"]\n",
        "list2 = [\"y\", \"me\", \"s\", \"lly\"]\n",
        "res = [i + j for i, j in zip(list1, list2)]\n",
        "print(res)"
      ],
      "metadata": {
        "colab": {
          "base_uri": "https://localhost:8080/"
        },
        "id": "--D5qiHtLYxR",
        "outputId": "7b8c70c0-0bce-4389-d79d-fa53f7fc7fd4"
      },
      "execution_count": 20,
      "outputs": [
        {
          "output_type": "stream",
          "name": "stdout",
          "text": [
            "['My', 'name', 'is', 'Shelly']\n"
          ]
        }
      ]
    },
    {
      "cell_type": "markdown",
      "source": [
        "Q11. Concatenate two lists in the following order\n",
        "list1 = [\"Hello \", \"take \"]\n",
        "list2 = [\"Dear\", \"Sir\"]\n",
        "Expected Output: ['Hello Dear', 'Hello Sir', 'take Dear', 'take Sir']"
      ],
      "metadata": {
        "id": "e4KP5QAZLfyO"
      }
    },
    {
      "cell_type": "code",
      "source": [
        "list1 = [\"Hello \", \"take \"]\n",
        "list2 = [\"Dear\", \"Sir\"]\n",
        "ans=[]\n",
        "for i in range(len(list1)):\n",
        "  for j in range(len(list2)):\n",
        "    ans.append(list1[i]+\" \"+list2[j])\n",
        "\n",
        "print(ans)"
      ],
      "metadata": {
        "colab": {
          "base_uri": "https://localhost:8080/"
        },
        "id": "0ohQZczFLTwL",
        "outputId": "867c92cd-5d44-4b25-8ed9-5b90df630925"
      },
      "execution_count": 22,
      "outputs": [
        {
          "output_type": "execute_result",
          "data": {
            "text/plain": [
              "['Hello  Dear', 'Hello  Sir', 'take  Dear', 'take  Sir']"
            ]
          },
          "metadata": {},
          "execution_count": 22
        }
      ]
    },
    {
      "cell_type": "markdown",
      "source": [
        "Q12. Add item 7000 after 6000 in the following Python List\n",
        "list1 = [10, 20, [300, 400, [5000, 6000], 500], 30, 40]"
      ],
      "metadata": {
        "id": "IZNMsjvWMbua"
      }
    },
    {
      "cell_type": "code",
      "source": [
        "list1 = [10, 20, [300, 400, [5000, 6000], 500], 30, 40]\n",
        "list1[2][2].insert(2,7000)\n",
        "print(list1)"
      ],
      "metadata": {
        "colab": {
          "base_uri": "https://localhost:8080/"
        },
        "id": "vqhQ92OxMc-F",
        "outputId": "e81eccbc-29cc-4ae1-a08f-ae4be533c9b8"
      },
      "execution_count": 27,
      "outputs": [
        {
          "output_type": "stream",
          "name": "stdout",
          "text": [
            "[10, 20, [300, 400, [5000, 6000, 7000], 500], 30, 40]\n"
          ]
        }
      ]
    },
    {
      "cell_type": "markdown",
      "source": [
        "Q13. Given a Python list, remove all occurrence of 20 from the list\n",
        "list1 = [5, 20, 15, 20, 25, 50, 20]"
      ],
      "metadata": {
        "id": "Qejo7RN-NOCc"
      }
    },
    {
      "cell_type": "code",
      "source": [
        "def remove_value(list, val):\n",
        "    return [i for i in list if i != val]\n",
        "\n",
        "list1 = [5, 20, 15, 20, 25, 50, 20]\n",
        "list1 = remove_value(list1, 20)\n",
        "print(list1)"
      ],
      "metadata": {
        "colab": {
          "base_uri": "https://localhost:8080/"
        },
        "id": "oLW3elZkNgYa",
        "outputId": "27b92ff5-635a-4f38-fa7f-6f06048a66fd"
      },
      "execution_count": 30,
      "outputs": [
        {
          "output_type": "stream",
          "name": "stdout",
          "text": [
            "[5, 15, 25, 50]\n"
          ]
        }
      ]
    },
    {
      "cell_type": "code",
      "source": [
        "\n",
        "list1.remove(20)\n",
        "print(list1)"
      ],
      "metadata": {
        "colab": {
          "base_uri": "https://localhost:8080/"
        },
        "id": "1Vs1JSoINPkk",
        "outputId": "beebec31-0e93-4045-f188-0bcf4dfbe8aa"
      },
      "execution_count": 28,
      "outputs": [
        {
          "output_type": "stream",
          "name": "stdout",
          "text": [
            "[5, 15, 20, 25, 50, 20]\n"
          ]
        }
      ]
    },
    {
      "cell_type": "markdown",
      "source": [
        "Q14. Check if a value 200 exists in a dictionary\n",
        "d1 = {'a': 100, 'b': 200, 'c': 300}"
      ],
      "metadata": {
        "id": "iy8TmgEiNqjR"
      }
    },
    {
      "cell_type": "code",
      "source": [
        "d1 = {'a': 100, 'b': 200, 'c': 300}\n",
        "if(200 in d1.values()):\n",
        "    print('yes')\n",
        "else:\n",
        "    print(\"no\")"
      ],
      "metadata": {
        "colab": {
          "base_uri": "https://localhost:8080/"
        },
        "id": "6f7sqL-DGSVU",
        "outputId": "b15bbeb3-afcc-455c-d7b9-287d6c563a3a"
      },
      "execution_count": 31,
      "outputs": [
        {
          "output_type": "stream",
          "name": "stdout",
          "text": [
            "yes\n"
          ]
        }
      ]
    },
    {
      "cell_type": "markdown",
      "source": [
        "Q15. Find the sum of the series 2 +22 + 222 + 2222 + .. n terms"
      ],
      "metadata": {
        "id": "yYLtAK1HNs9c"
      }
    },
    {
      "cell_type": "code",
      "source": [
        "n=3\n",
        "s=2\n",
        "sum=2\n",
        "for i in range(n-1):\n",
        "    s = (s*10)+2\n",
        "    sum = sum+s\n",
        "\n",
        "print(sum)"
      ],
      "metadata": {
        "colab": {
          "base_uri": "https://localhost:8080/"
        },
        "id": "DX-Ag51ZNuaa",
        "outputId": "30d7f4a2-331c-41c0-a9e7-d3f07a9bf06c"
      },
      "execution_count": 32,
      "outputs": [
        {
          "output_type": "stream",
          "name": "stdout",
          "text": [
            "246\n"
          ]
        }
      ]
    }
  ]
}